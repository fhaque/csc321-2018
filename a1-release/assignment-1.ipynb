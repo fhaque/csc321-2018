{
 "cells": [
  {
   "cell_type": "markdown",
   "metadata": {},
   "source": [
    "# Part 1: Network Architecture"
   ]
  },
  {
   "cell_type": "code",
   "execution_count": 29,
   "metadata": {},
   "outputs": [],
   "source": [
    "import math"
   ]
  },
  {
   "cell_type": "markdown",
   "metadata": {},
   "source": [
    "1) To figure out the number of trainable parameters in the model, first need to calculate the dimensions of the parameters:"
   ]
  },
  {
   "cell_type": "code",
   "execution_count": 31,
   "metadata": {},
   "outputs": [
    {
     "name": "stdout",
     "output_type": "stream",
     "text": [
      "The number of parameters in this model is: 38522\n",
      "The part of the model with largest number of parameters: 32000\n"
     ]
    }
   ],
   "source": [
    "n_v = 250 # num. of features (words)\n",
    "n_e = 16 # dimensions of word embedding\n",
    "n_w = 3 # num. of input words\n",
    "n_h = 128 # num. of hidden units\n",
    "\n",
    "embed_to_hid_weights_params = (n_w * n_e) * n_h\n",
    "hid_to_output_weights_params = n_h * n_v\n",
    "hid_bias_params = 1 * n_h\n",
    "output_bias_params = 1 * n_v\n",
    "\n",
    "print(f'The number of parameters in this model is: {embed_to_hid_weights_params + hid_to_output_weights_params + hid_bias_params + output_bias_params}')\n",
    "print(f'The part of the model with largest number of parameters: {max([embed_to_hid_weights_params, hid_to_output_weights_params, hid_bias_params,  output_bias_params])}')"
   ]
  },
  {
   "cell_type": "markdown",
   "metadata": {},
   "source": [
    "2) For an n-gram model, that has 4 words (ie. 4-gram), if we stored all possible combinations of words, the number of entries is:"
   ]
  },
  {
   "cell_type": "code",
   "execution_count": 34,
   "metadata": {},
   "outputs": [
    {
     "name": "stdout",
     "output_type": "stream",
     "text": [
      "3232856260909107732320814552024368470994843717673780666747942427112823747555111209488817915371028199450928507353189432926730931712808990822791030279071281921676527240189264733218041186261006832925365133678939089569935713530175040513178760077247933065402339006164825552248819436572586057399222641254832982204849137721776650641276858807153128978777672951913990844377478702589172973255150283241787320658188482062478582659808848825548800000000000000000000000000000000000000000000000000000000000000\n"
     ]
    }
   ],
   "source": [
    "print(math.factorial(n_v))"
   ]
  },
  {
   "cell_type": "markdown",
   "metadata": {},
   "source": [
    "# Part 2: Training the model"
   ]
  },
  {
   "cell_type": "code",
   "execution_count": 3,
   "metadata": {},
   "outputs": [],
   "source": [
    "import pickle\n",
    "import language_model # Assignment\n",
    "import checking # Assignment checker"
   ]
  },
  {
   "cell_type": "code",
   "execution_count": 4,
   "metadata": {},
   "outputs": [
    {
     "name": "stdout",
     "output_type": "stream",
     "text": [
      "{'vocab': ['all', 'set', 'just', 'show', 'being', 'money', 'over', 'both', 'years', 'four', 'through', 'during', 'go', 'still', 'children', 'before', 'police', 'office', 'million', 'also', 'less', 'had', ',', 'including', 'should', 'to', 'only', 'going', 'under', 'has', 'might', 'do', 'them', 'good', 'around', 'get', 'very', 'big', 'dr.', 'game', 'every', 'know', 'they', 'not', 'world', 'now', 'him', 'school', 'several', 'like', 'did', 'university', 'companies', 'these', 'she', 'team', 'found', 'where', 'right', 'says', 'people', 'house', 'national', 'some', 'back', 'see', 'street', 'are', 'year', 'home', 'best', 'out', 'even', 'what', 'said', 'for', 'federal', 'since', 'its', 'may', 'state', 'does', 'john', 'between', 'new', ';', 'three', 'public', '?', 'be', 'we', 'after', 'business', 'never', 'use', 'here', 'york', 'members', 'percent', 'put', 'group', 'come', 'by', '$', 'on', 'about', 'last', 'her', 'of', 'could', 'days', 'against', 'times', 'women', 'place', 'think', 'first', 'among', 'own', 'family', 'into', 'each', 'one', 'down', 'because', 'long', 'another', 'such', 'old', 'next', 'your', 'market', 'second', 'city', 'little', 'from', 'would', 'few', 'west', 'there', 'political', 'two', 'been', '.', 'their', 'much', 'music', 'too', 'way', 'white', ':', 'was', 'war', 'today', 'more', 'ago', 'life', 'that', 'season', 'company', '-', 'but', 'part', 'court', 'former', 'general', 'with', 'than', 'those', 'he', 'me', 'high', 'made', 'this', 'work', 'up', 'us', 'until', 'will', 'ms.', 'while', 'officials', 'can', 'were', 'country', 'my', 'called', 'and', 'program', 'have', 'then', 'is', 'it', 'an', 'states', 'case', 'say', 'his', 'at', 'want', 'in', 'any', 'as', 'if', 'united', 'end', 'no', ')', 'make', 'government', 'when', 'american', 'same', 'how', 'mr.', 'other', 'take', 'which', 'department', '--', 'you', 'many', 'nt', 'day', 'week', 'play', 'used', \"'s\", 'though', 'our', 'who', 'yesterday', 'director', 'most', 'president', 'law', 'man', 'a', 'night', 'off', 'center', 'i', 'well', 'or', 'without', 'so', 'time', 'five', 'the', 'left'], 'valid_targets': array([142,  58, 139, ..., 248, 131, 143], dtype=int32), 'train_inputs': array([[ 27,  25,  89],\n",
      "       [183,  43, 248],\n",
      "       [182,  31,  75],\n",
      "       ...,\n",
      "       [ 43,  58,  75],\n",
      "       [ 27,  25,  35],\n",
      "       [ 75, 122, 223]], dtype=int32), 'test_targets': array([143,  22,  54, ...,  22, 217, 191], dtype=int32), 'test_inputs': array([[182,  89, 186],\n",
      "       [ 42,  67, 242],\n",
      "       [ 67, 242,  22],\n",
      "       ...,\n",
      "       [141, 108, 176],\n",
      "       [108, 176,  22],\n",
      "       [176,  22, 217]], dtype=int32), 'train_targets': array([143, 116, 121, ...,  46, 192, 143], dtype=int32), 'valid_inputs': array([[169, 136, 189],\n",
      "       [136, 189, 142],\n",
      "       [189, 142,  58],\n",
      "       ...,\n",
      "       [249, 175,  25],\n",
      "       [175,  25, 248],\n",
      "       [ 25, 248, 131]], dtype=int32)}\n"
     ]
    }
   ],
   "source": [
    "# Look at data\n",
    "data_file = open('data.pk', 'rb')\n",
    "data = pickle.load(data_file, encoding='latin1')\n",
    "data_file.close()\n",
    "\n",
    "print(data)"
   ]
  },
  {
   "cell_type": "code",
   "execution_count": 5,
   "metadata": {},
   "outputs": [
    {
     "name": "stdout",
     "output_type": "stream",
     "text": [
      "The loss derivative looks OK.\n",
      "Checking  output_bias\n",
      "The gradient for output_bias looks OK.\n",
      "Checking  hid_bias\n",
      "The gradient for hid_bias looks OK.\n",
      "Checking  hid_to_output_weights\n",
      "The gradient for hid_to_output_weights looks OK.\n",
      "Checking  embed_to_hid_weights\n",
      "The gradient for embed_to_hid_weights looks OK.\n",
      "Checking  word_embedding_weights\n",
      "The gradient for word_embedding_weights looks OK.\n"
     ]
    }
   ],
   "source": [
    "# Check gradients to make sure loss derivative and backprop are fine.\n",
    "checking.check_gradients()"
   ]
  },
  {
   "cell_type": "code",
   "execution_count": 6,
   "metadata": {},
   "outputs": [
    {
     "name": "stdout",
     "output_type": "stream",
     "text": [
      "\n",
      "Epoch 1\n",
      "Batch 100 Train CE 4.545\n",
      "Batch 200 Train CE 4.456\n",
      "Batch 300 Train CE 4.442\n",
      "Batch 400 Train CE 4.437\n",
      "Batch 500 Train CE 4.418\n",
      "Batch 600 Train CE 4.410\n",
      "Batch 700 Train CE 4.458\n",
      "Batch 800 Train CE 4.433\n",
      "Batch 900 Train CE 4.434\n",
      "Batch 1000 Train CE 4.377\n",
      "Running validation...\n",
      "Validation cross-entropy: 4.425\n",
      "Batch 1100 Train CE 4.391\n",
      "Batch 1200 Train CE 4.302\n",
      "Batch 1300 Train CE 4.216\n",
      "Batch 1400 Train CE 4.164\n",
      "Batch 1500 Train CE 4.071\n",
      "Batch 1600 Train CE 4.088\n",
      "Batch 1700 Train CE 4.090\n",
      "Batch 1800 Train CE 4.004\n",
      "Batch 1900 Train CE 4.020\n",
      "Batch 2000 Train CE 4.000\n",
      "Running validation...\n",
      "Validation cross-entropy: 3.970\n",
      "Batch 2100 Train CE 3.988\n",
      "Batch 2200 Train CE 3.893\n",
      "Batch 2300 Train CE 3.868\n",
      "Batch 2400 Train CE 3.849\n",
      "Batch 2500 Train CE 3.828\n",
      "Batch 2600 Train CE 3.737\n",
      "Batch 2700 Train CE 3.736\n",
      "Batch 2800 Train CE 3.660\n",
      "Batch 2900 Train CE 3.603\n",
      "Batch 3000 Train CE 3.563\n",
      "Running validation...\n",
      "Validation cross-entropy: 3.564\n",
      "Batch 3100 Train CE 3.548\n",
      "Batch 3200 Train CE 3.504\n",
      "Batch 3300 Train CE 3.475\n",
      "Batch 3400 Train CE 3.423\n",
      "Batch 3500 Train CE 3.440\n",
      "Batch 3600 Train CE 3.395\n",
      "Batch 3700 Train CE 3.408\n",
      "\n",
      "Epoch 2\n",
      "Batch 3800 Train CE 3.371\n",
      "Batch 3900 Train CE 3.343\n",
      "Batch 4000 Train CE 3.313\n",
      "Running validation...\n",
      "Validation cross-entropy: 3.329\n",
      "Batch 4100 Train CE 3.311\n",
      "Batch 4200 Train CE 3.270\n",
      "Batch 4300 Train CE 3.289\n",
      "Batch 4400 Train CE 3.281\n",
      "Batch 4500 Train CE 3.269\n",
      "Batch 4600 Train CE 3.253\n",
      "Batch 4700 Train CE 3.238\n",
      "Batch 4800 Train CE 3.203\n",
      "Batch 4900 Train CE 3.213\n",
      "Batch 5000 Train CE 3.228\n",
      "Running validation...\n",
      "Validation cross-entropy: 3.201\n",
      "Batch 5100 Train CE 3.198\n",
      "Batch 5200 Train CE 3.185\n",
      "Batch 5300 Train CE 3.154\n",
      "Batch 5400 Train CE 3.161\n",
      "Batch 5500 Train CE 3.165\n",
      "Batch 5600 Train CE 3.151\n",
      "Batch 5700 Train CE 3.155\n",
      "Batch 5800 Train CE 3.109\n",
      "Batch 5900 Train CE 3.116\n",
      "Batch 6000 Train CE 3.073\n",
      "Running validation...\n",
      "Validation cross-entropy: 3.108\n",
      "Batch 6100 Train CE 3.108\n",
      "Batch 6200 Train CE 3.088\n",
      "Batch 6300 Train CE 3.094\n",
      "Batch 6400 Train CE 3.079\n",
      "Batch 6500 Train CE 3.104\n",
      "Batch 6600 Train CE 3.087\n",
      "Batch 6700 Train CE 3.065\n",
      "Batch 6800 Train CE 3.045\n",
      "Batch 6900 Train CE 3.051\n",
      "Batch 7000 Train CE 3.028\n",
      "Running validation...\n",
      "Validation cross-entropy: 3.043\n",
      "Batch 7100 Train CE 3.017\n",
      "Batch 7200 Train CE 3.066\n",
      "Batch 7300 Train CE 3.046\n",
      "Batch 7400 Train CE 3.022\n",
      "\n",
      "Epoch 3\n",
      "Batch 7500 Train CE 3.020\n",
      "Batch 7600 Train CE 2.976\n",
      "Batch 7700 Train CE 3.008\n",
      "Batch 7800 Train CE 2.989\n",
      "Batch 7900 Train CE 2.982\n",
      "Batch 8000 Train CE 2.966\n",
      "Running validation...\n",
      "Validation cross-entropy: 2.987\n",
      "Batch 8100 Train CE 2.989\n",
      "Batch 8200 Train CE 2.965\n",
      "Batch 8300 Train CE 2.989\n",
      "Batch 8400 Train CE 2.960\n",
      "Batch 8500 Train CE 2.984\n",
      "Batch 8600 Train CE 2.952\n",
      "Batch 8700 Train CE 2.937\n",
      "Batch 8800 Train CE 2.942\n",
      "Batch 8900 Train CE 2.955\n",
      "Batch 9000 Train CE 2.935\n",
      "Running validation...\n",
      "Validation cross-entropy: 2.956\n",
      "Batch 9100 Train CE 2.956\n",
      "Batch 9200 Train CE 2.910\n",
      "Batch 9300 Train CE 2.920\n",
      "Batch 9400 Train CE 2.931\n",
      "Batch 9500 Train CE 2.974\n",
      "Batch 9600 Train CE 2.910\n",
      "Batch 9700 Train CE 2.930\n",
      "Batch 9800 Train CE 2.905\n",
      "Batch 9900 Train CE 2.892\n",
      "Batch 10000 Train CE 2.892\n",
      "Running validation...\n",
      "Validation cross-entropy: 2.912\n",
      "Batch 10100 Train CE 2.921\n",
      "Batch 10200 Train CE 2.889\n",
      "Batch 10300 Train CE 2.898\n",
      "Batch 10400 Train CE 2.910\n",
      "Batch 10500 Train CE 2.926\n",
      "Batch 10600 Train CE 2.915\n",
      "Batch 10700 Train CE 2.872\n",
      "Batch 10800 Train CE 2.893\n",
      "Batch 10900 Train CE 2.886\n",
      "Batch 11000 Train CE 2.889\n",
      "Running validation...\n",
      "Validation cross-entropy: 2.874\n",
      "Batch 11100 Train CE 2.863\n",
      "\n",
      "Epoch 4\n",
      "Batch 11200 Train CE 2.846\n",
      "Batch 11300 Train CE 2.844\n",
      "Batch 11400 Train CE 2.843\n",
      "Batch 11500 Train CE 2.862\n",
      "Batch 11600 Train CE 2.892\n",
      "Batch 11700 Train CE 2.836\n",
      "Batch 11800 Train CE 2.883\n",
      "Batch 11900 Train CE 2.848\n",
      "Batch 12000 Train CE 2.821\n",
      "Running validation...\n",
      "Validation cross-entropy: 2.870\n",
      "Batch 12100 Train CE 2.874\n",
      "Batch 12200 Train CE 2.806\n",
      "Batch 12300 Train CE 2.843\n",
      "Batch 12400 Train CE 2.840\n",
      "Batch 12500 Train CE 2.799\n",
      "Batch 12600 Train CE 2.843\n",
      "Batch 12700 Train CE 2.843\n",
      "Batch 12800 Train CE 2.849\n",
      "Batch 12900 Train CE 2.819\n",
      "Batch 13000 Train CE 2.799\n",
      "Running validation...\n",
      "Validation cross-entropy: 2.825\n",
      "Batch 13100 Train CE 2.831\n",
      "Batch 13200 Train CE 2.832\n",
      "Batch 13300 Train CE 2.799\n",
      "Batch 13400 Train CE 2.779\n",
      "Batch 13500 Train CE 2.796\n",
      "Batch 13600 Train CE 2.849\n",
      "Batch 13700 Train CE 2.806\n",
      "Batch 13800 Train CE 2.818\n",
      "Batch 13900 Train CE 2.840\n",
      "Batch 14000 Train CE 2.772\n",
      "Running validation...\n",
      "Validation cross-entropy: 2.820\n",
      "Batch 14100 Train CE 2.818\n",
      "Batch 14200 Train CE 2.791\n",
      "Batch 14300 Train CE 2.833\n",
      "Batch 14400 Train CE 2.785\n",
      "Batch 14500 Train CE 2.814\n",
      "Batch 14600 Train CE 2.805\n",
      "Batch 14700 Train CE 2.786\n",
      "Batch 14800 Train CE 2.827\n",
      "Batch 14900 Train CE 2.833\n",
      "\n",
      "Epoch 5\n",
      "Batch 15000 Train CE 2.788\n",
      "Running validation...\n",
      "Validation cross-entropy: 2.794\n",
      "Batch 15100 Train CE 2.767\n",
      "Batch 15200 Train CE 2.744\n",
      "Batch 15300 Train CE 2.797\n",
      "Batch 15400 Train CE 2.750\n",
      "Batch 15500 Train CE 2.774\n",
      "Batch 15600 Train CE 2.783\n",
      "Batch 15700 Train CE 2.738\n",
      "Batch 15800 Train CE 2.780\n",
      "Batch 15900 Train CE 2.756\n",
      "Batch 16000 Train CE 2.753\n",
      "Running validation...\n",
      "Validation cross-entropy: 2.788\n",
      "Batch 16100 Train CE 2.774\n",
      "Batch 16200 Train CE 2.754\n",
      "Batch 16300 Train CE 2.765\n",
      "Batch 16400 Train CE 2.777\n",
      "Batch 16500 Train CE 2.741\n",
      "Batch 16600 Train CE 2.753\n",
      "Batch 16700 Train CE 2.782\n",
      "Batch 16800 Train CE 2.753\n",
      "Batch 16900 Train CE 2.753\n",
      "Batch 17000 Train CE 2.756\n",
      "Running validation...\n",
      "Validation cross-entropy: 2.785\n",
      "Batch 17100 Train CE 2.801\n",
      "Batch 17200 Train CE 2.758\n",
      "Batch 17300 Train CE 2.779\n",
      "Batch 17400 Train CE 2.753\n",
      "Batch 17500 Train CE 2.756\n",
      "Batch 17600 Train CE 2.754\n",
      "Batch 17700 Train CE 2.776\n",
      "Batch 17800 Train CE 2.774\n",
      "Batch 17900 Train CE 2.771\n",
      "Batch 18000 Train CE 2.780\n",
      "Running validation...\n",
      "Validation cross-entropy: 2.769\n",
      "Batch 18100 Train CE 2.749\n",
      "Batch 18200 Train CE 2.732\n",
      "Batch 18300 Train CE 2.761\n",
      "Batch 18400 Train CE 2.761\n",
      "Batch 18500 Train CE 2.737\n",
      "Batch 18600 Train CE 2.721\n",
      "\n",
      "Epoch 6\n",
      "Batch 18700 Train CE 2.722\n",
      "Batch 18800 Train CE 2.711\n",
      "Batch 18900 Train CE 2.711\n",
      "Batch 19000 Train CE 2.741\n",
      "Running validation...\n",
      "Validation cross-entropy: 2.764\n",
      "Batch 19100 Train CE 2.690\n",
      "Batch 19200 Train CE 2.719\n",
      "Batch 19300 Train CE 2.731\n",
      "Batch 19400 Train CE 2.716\n",
      "Batch 19500 Train CE 2.745\n",
      "Batch 19600 Train CE 2.742\n",
      "Batch 19700 Train CE 2.763\n",
      "Batch 19800 Train CE 2.741\n",
      "Batch 19900 Train CE 2.700\n",
      "Batch 20000 Train CE 2.746\n",
      "Running validation...\n",
      "Validation cross-entropy: 2.747\n",
      "Batch 20100 Train CE 2.714\n",
      "Batch 20200 Train CE 2.728\n",
      "Batch 20300 Train CE 2.720\n",
      "Batch 20400 Train CE 2.714\n",
      "Batch 20500 Train CE 2.724\n",
      "Batch 20600 Train CE 2.715\n",
      "Batch 20700 Train CE 2.730\n",
      "Batch 20800 Train CE 2.747\n",
      "Batch 20900 Train CE 2.726\n",
      "Batch 21000 Train CE 2.722\n",
      "Running validation...\n",
      "Validation cross-entropy: 2.743\n",
      "Batch 21100 Train CE 2.734\n",
      "Batch 21200 Train CE 2.720\n",
      "Batch 21300 Train CE 2.697\n",
      "Batch 21400 Train CE 2.715\n",
      "Batch 21500 Train CE 2.730\n",
      "Batch 21600 Train CE 2.712\n",
      "Batch 21700 Train CE 2.740\n",
      "Batch 21800 Train CE 2.675\n",
      "Batch 21900 Train CE 2.700\n",
      "Batch 22000 Train CE 2.685\n",
      "Running validation...\n",
      "Validation cross-entropy: 2.732\n",
      "Batch 22100 Train CE 2.717\n",
      "Batch 22200 Train CE 2.725\n",
      "Batch 22300 Train CE 2.731\n",
      "\n",
      "Epoch 7\n",
      "Batch 22400 Train CE 2.728\n",
      "Batch 22500 Train CE 2.670\n",
      "Batch 22600 Train CE 2.694\n",
      "Batch 22700 Train CE 2.716\n",
      "Batch 22800 Train CE 2.739\n",
      "Batch 22900 Train CE 2.680\n",
      "Batch 23000 Train CE 2.693\n",
      "Running validation...\n",
      "Validation cross-entropy: 2.745\n",
      "Validation error increasing!  Training stopped.\n",
      "\n",
      "Final training cross-entropy: 2.695\n",
      "Final validation cross-entropy: 2.745\n",
      "Final test cross-entropy: 2.750\n"
     ]
    }
   ],
   "source": [
    "# Create and train model\n",
    "distributed_representation_dim = 16\n",
    "hidden_units = 128\n",
    "\n",
    "model = language_model.train(16, 128)"
   ]
  },
  {
   "cell_type": "markdown",
   "metadata": {},
   "source": [
    "# Part 3: Analysis"
   ]
  },
  {
   "cell_type": "code",
   "execution_count": 7,
   "metadata": {},
   "outputs": [
    {
     "name": "stdout",
     "output_type": "stream",
     "text": [
      "Preprocessing the data using PCA...\n",
      "Computing pairwise distances...\n",
      "Computing P-values for point  0  of  250 ...\n",
      "Mean value of sigma:  1.1360113267570429\n",
      "Iteration  10 : error is  13.27199127764716\n",
      "Iteration  20 : error is  13.015665716224111\n",
      "Iteration  30 : error is  14.431909208394197\n",
      "Iteration  40 : error is  14.683776487755377\n",
      "Iteration  50 : error is  14.387473622837017\n",
      "Iteration  60 : error is  14.810644729554923\n",
      "Iteration  70 : error is  14.309393638626073\n",
      "Iteration  80 : error is  14.467844161853819\n",
      "Iteration  90 : error is  14.425021986770023\n",
      "Iteration  100 : error is  14.14960653213638\n",
      "Iteration  110 : error is  1.8597657090414526\n",
      "Iteration  120 : error is  1.3275800006057126\n",
      "Iteration  130 : error is  1.0971947361512357\n",
      "Iteration  140 : error is  0.9849653420266818\n",
      "Iteration  150 : error is  0.8818377809174139\n",
      "Iteration  160 : error is  0.8224881125388462\n",
      "Iteration  170 : error is  0.797704692270606\n",
      "Iteration  180 : error is  0.7702695282104072\n",
      "Iteration  190 : error is  0.7611878150049486\n",
      "Iteration  200 : error is  0.7540424946258533\n",
      "Iteration  210 : error is  0.7481090738882412\n",
      "Iteration  220 : error is  0.7404367289343695\n",
      "Iteration  230 : error is  0.7350189135365005\n",
      "Iteration  240 : error is  0.7320577577351247\n",
      "Iteration  250 : error is  0.7294666780442255\n",
      "Iteration  260 : error is  0.7282942472704019\n",
      "Iteration  270 : error is  0.7247381849252471\n",
      "Iteration  280 : error is  0.7121545095625028\n",
      "Iteration  290 : error is  0.7079059501586866\n",
      "Iteration  300 : error is  0.6996450761289975\n",
      "Iteration  310 : error is  0.6959207498108302\n",
      "Iteration  320 : error is  0.6944130210341564\n",
      "Iteration  330 : error is  0.6928325612075544\n",
      "Iteration  340 : error is  0.6898511483407384\n",
      "Iteration  350 : error is  0.6891195541222945\n",
      "Iteration  360 : error is  0.686358520946493\n",
      "Iteration  370 : error is  0.6830581074873451\n",
      "Iteration  380 : error is  0.6815200013832529\n",
      "Iteration  390 : error is  0.6806255309187876\n",
      "Iteration  400 : error is  0.6803527976128776\n",
      "Iteration  410 : error is  0.6798225403199373\n",
      "Iteration  420 : error is  0.6797502249771907\n",
      "Iteration  430 : error is  0.679693716075752\n",
      "Iteration  440 : error is  0.6781865944318883\n",
      "Iteration  450 : error is  0.6774352275434854\n",
      "Iteration  460 : error is  0.6765119488611987\n",
      "Iteration  470 : error is  0.6761054773745919\n",
      "Iteration  480 : error is  0.6756301295441277\n",
      "Iteration  490 : error is  0.6741556361454407\n",
      "Iteration  500 : error is  0.670661201208118\n",
      "Iteration  510 : error is  0.6697624410008269\n",
      "Iteration  520 : error is  0.6693571509549574\n",
      "Iteration  530 : error is  0.6688546420223807\n",
      "Iteration  540 : error is  0.6685122163762798\n",
      "Iteration  550 : error is  0.6681780825097605\n",
      "Iteration  560 : error is  0.6675177106424754\n",
      "Iteration  570 : error is  0.6673637725386518\n",
      "Iteration  580 : error is  0.6672336445065137\n",
      "Iteration  590 : error is  0.6670525360729566\n",
      "Iteration  600 : error is  0.666705926553383\n",
      "Iteration  610 : error is  0.6657633233940814\n",
      "Iteration  620 : error is  0.6650021534300338\n",
      "Iteration  630 : error is  0.6646607845196675\n",
      "Iteration  640 : error is  0.6644494918788431\n",
      "Iteration  650 : error is  0.6643749820534368\n",
      "Iteration  660 : error is  0.6642053266096937\n",
      "Iteration  670 : error is  0.6641239037721096\n",
      "Iteration  680 : error is  0.6641089479944552\n",
      "Iteration  690 : error is  0.6641024685041825\n",
      "Iteration  700 : error is  0.664099796131964\n",
      "Iteration  710 : error is  0.6640976946082365\n",
      "Iteration  720 : error is  0.6640956953288188\n",
      "Iteration  730 : error is  0.6640938713134943\n",
      "Iteration  740 : error is  0.6640923596691581\n",
      "Iteration  750 : error is  0.6640911822892834\n",
      "Iteration  760 : error is  0.6640902791087837\n",
      "Iteration  770 : error is  0.664089598517801\n",
      "Iteration  780 : error is  0.6640890790433575\n",
      "Iteration  790 : error is  0.664088687429714\n",
      "Iteration  800 : error is  0.6640883948138916\n",
      "Iteration  810 : error is  0.6640881809644652\n",
      "Iteration  820 : error is  0.6640880118688053\n",
      "Iteration  830 : error is  0.6640878862703693\n",
      "Iteration  840 : error is  0.6640877959342322\n",
      "Iteration  850 : error is  0.6640877287337839\n",
      "Iteration  860 : error is  0.6640876790092939\n",
      "Iteration  870 : error is  0.664087642441185\n",
      "Iteration  880 : error is  0.6640876167966555\n",
      "Iteration  890 : error is  0.6640875980973022\n",
      "Iteration  900 : error is  0.6640875857321061\n",
      "Iteration  910 : error is  0.664087577415965\n",
      "Iteration  920 : error is  0.6640875713837389\n",
      "Iteration  930 : error is  0.6640875671257812\n",
      "Iteration  940 : error is  0.6640875642534808\n",
      "Iteration  950 : error is  0.6640875622928765\n",
      "Iteration  960 : error is  0.6640875609462995\n",
      "Iteration  970 : error is  0.6640875600457242\n",
      "Iteration  980 : error is  0.6640875594156169\n",
      "Iteration  990 : error is  0.6640875589834524\n",
      "Iteration  1000 : error is  0.6640875587061011\n"
     ]
    },
    {
     "data": {
      "image/png": "[encoded data removed]",
      "text/plain": [
       "<matplotlib.figure.Figure at 0x116acf4a8>"
      ]
     },
     "metadata": {
      "needs_background": "light"
     },
     "output_type": "display_data"
    }
   ],
   "source": [
    "# Plot TSNE\n",
    "model.tsne_plot()"
   ]
  },
  {
   "cell_type": "markdown",
   "metadata": {},
   "source": [
    "1) test out a word combination"
   ]
  },
  {
   "cell_type": "code",
   "execution_count": 10,
   "metadata": {},
   "outputs": [
    {
     "name": "stdout",
     "output_type": "stream",
     "text": [
      "companies want more . Prob: 0.44227\n",
      "companies want more time Prob: 0.12828\n",
      "companies want more than Prob: 0.07858\n",
      "companies want more money Prob: 0.05616\n",
      "companies want more to Prob: 0.05210\n",
      "companies want more , Prob: 0.04798\n",
      "companies want more more Prob: 0.02675\n",
      "companies want more ? Prob: 0.02656\n",
      "companies want more children Prob: 0.01988\n",
      "companies want more or Prob: 0.01272\n"
     ]
    }
   ],
   "source": [
    "\n",
    "model.predict_next_word('companies','want','more')"
   ]
  },
  {
   "cell_type": "markdown",
   "metadata": {},
   "source": [
    "2) Words that are grammatically similar seem to be clustered. For example, \"she\", \"he\", and \"I\". There doesn't seem to be any strong clustering with respect to semantics, but there is some. For example, \"people\" relates closest to \"women\", \"children\" and \"us\"."
   ]
  },
  {
   "cell_type": "code",
   "execution_count": 21,
   "metadata": {},
   "outputs": [
    {
     "name": "stdout",
     "output_type": "stream",
     "text": [
      "he: 0.7820804885456604\n",
      "united: 2.366551651368451\n",
      "they: 2.6977152594651286\n",
      "we: 2.883513607740695\n",
      "i: 2.932646835906675\n",
      "its: 2.989929629501051\n",
      "white: 3.015994233350521\n",
      "john: 3.0308254192648434\n",
      "government: 3.0737900050746605\n",
      "you: 3.124640894525029\n"
     ]
    }
   ],
   "source": [
    "model.display_nearest_words('she')"
   ]
  },
  {
   "cell_type": "code",
   "execution_count": 18,
   "metadata": {},
   "outputs": [
    {
     "name": "stdout",
     "output_type": "stream",
     "text": [
      "women: 1.5187095554629388\n",
      "children: 1.707750414799329\n",
      "us: 2.1018142204625017\n",
      "officials: 2.132434255718013\n",
      "companies: 2.167790071838781\n",
      "director: 2.175279441175138\n",
      "me: 2.180691288142348\n",
      "man: 2.1904096208637434\n",
      "government: 2.203386009545124\n",
      "west: 2.2094524269474523\n"
     ]
    }
   ],
   "source": [
    "model.display_nearest_words('people')"
   ]
  },
  {
   "cell_type": "markdown",
   "metadata": {},
   "source": [
    "3) The words \"new\" and \"york\" aren't close because \n",
    "- they are not likely, grammatically, to be in similar positions.\n",
    "- Semantically, they are different. You can see that as the closest word to \"new\" is \"old\""
   ]
  },
  {
   "cell_type": "code",
   "execution_count": 22,
   "metadata": {},
   "outputs": [
    {
     "name": "stdout",
     "output_type": "stream",
     "text": [
      "old: 2.932806061155875\n",
      "american: 2.935283992144499\n",
      "back: 3.1830708319388057\n",
      "own: 3.2494659680270614\n",
      "about: 3.313915926234961\n",
      "big: 3.324562115725723\n",
      "show: 3.3480734830385503\n",
      "next: 3.361208469556825\n",
      "national: 3.3851881476210064\n",
      "same: 3.385816206004517\n"
     ]
    }
   ],
   "source": [
    "model.display_nearest_words('new')"
   ]
  },
  {
   "cell_type": "markdown",
   "metadata": {},
   "source": [
    "4) The distance between \"university\" and \"governement\" is closer because they're both semantically closer in the fact they are both nouns and establisments. Where as \"political\" is not an establishment and also can be used as a noun or adjective."
   ]
  },
  {
   "cell_type": "code",
   "execution_count": 25,
   "metadata": {},
   "outputs": [
    {
     "name": "stdout",
     "output_type": "stream",
     "text": [
      "Distance of government, political: 1.3141269693870212\n",
      "Distance of government, university: 1.2257999474720518\n"
     ]
    }
   ],
   "source": [
    "print(f'Distance of government, political: {model.word_distance(\"government\", \"political\")}\\nDistance of government, university: {model.word_distance(\"government\", \"university\")}')"
   ]
  },
  {
   "cell_type": "code",
   "execution_count": null,
   "metadata": {},
   "outputs": [],
   "source": []
  }
 ],
 "metadata": {
  "kernelspec": {
   "display_name": "Python 3",
   "language": "python",
   "name": "python3"
  },
  "language_info": {
   "codemirror_mode": {
    "name": "ipython",
    "version": 3
   },
   "file_extension": ".py",
   "mimetype": "text/x-python",
   "name": "python",
   "nbconvert_exporter": "python",
   "pygments_lexer": "ipython3",
   "version": "3.6.4"
  }
 },
 "nbformat": 4,
 "nbformat_minor": 2
}
